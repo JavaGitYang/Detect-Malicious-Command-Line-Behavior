{
 "cells": [
  {
   "cell_type": "code",
   "execution_count": 4,
   "metadata": {},
   "outputs": [],
   "source": [
    "from sklearn.feature_extraction.text import TfidfVectorizer\n",
    "import re\n",
    "\n",
    "from sklearn.decomposition import TruncatedSVD\n",
    "from sklearn.preprocessing import Normalizer\n",
    "from sklearn.pipeline import make_pipeline\n",
    "\n",
    "from sklearn.cluster import DBSCAN\n",
    "from sklearn import metrics"
   ]
  },
  {
   "cell_type": "code",
   "execution_count": 45,
   "metadata": {},
   "outputs": [],
   "source": [
    "dataset = []\n",
    "#定义分割字符\n",
    "regEx = re.compile('\\s')\n",
    "regEx2 = re.compile('-\\w*')\n",
    "with open('history.txt',encoding='UTF-8') as f:\n",
    "        for line in f.readlines():\n",
    "            #去掉行尾换行符\n",
    "            line=line.rstrip('\\n')\n",
    "            #去掉‘-’及以后的字符\n",
    "            listoftoken2 = regEx2.sub('',line)\n",
    "            #去掉‘/’\n",
    "            listoftoken3 = re.compile(r'/').sub('',listoftoken2)\n",
    "            #切分命令语句\n",
    "            listoftoken = regEx.split(listoftoken3)\n",
    "            #去掉空格值，且将字符串转变为小写\n",
    "            tem = [tok.lower() for tok in listoftoken if len(tok)>0]\n",
    "            #去掉第一个无用的序列号\n",
    "            del tem[0]\n",
    "            #去掉字符小于1的值\n",
    "            tem2 = [b for b in tem if len(b)>1]\n",
    "            #去掉无用的命令\n",
    "            #tem_data = [a for a in tem2 if a in remove_data]\n",
    "            #if len(tem_data) == 0:\n",
    "            #    dataset.append(tem2)\n",
    "            tem3 = ' '.join(tem2)\n",
    "            dataset.append(tem3)"
   ]
  },
  {
   "cell_type": "code",
   "execution_count": 47,
   "metadata": {},
   "outputs": [],
   "source": [
    "import os\n",
    "from sklearn.feature_extraction.text import TfidfVectorizer\n",
    "from sklearn.decomposition import TruncatedSVD\n",
    "from sklearn.preprocessing import Normalizer\n",
    "from sklearn.pipeline import make_pipeline\n",
    "\n",
    "document = []\n",
    "name = []\n",
    "topicVector = {}\n",
    "def findTopic(rootdir,model='lsa',ngram_range=(1,2),dimension=10):\n",
    "    \n",
    "    #列出文件夹下所有文件\n",
    "    list = os.listdir(rootdir)\n",
    "    \n",
    "    #取出每一个命令名字\n",
    "    for i in list:\n",
    "        name.append(i[0:-4])\n",
    "    \n",
    "    #链接目录地址和每一个文件名，得到每个文件地址，把所有文档综合起来\n",
    "    for i in range(0,len(list)):\n",
    "        path = os.path.join(rootdir,list[i])\n",
    "        if os.path.isfile(path):\n",
    "            with open(path,'r+') as f:\n",
    "                document.append(f.read())\n",
    "    \n",
    "    #把文档输入到模型里训练\n",
    "    if model == 'lsa':\n",
    "        vec = TfidfVectorizer(ngram_range)\n",
    "        X = vec.fit_transform(document)\n",
    "\n",
    "        #取多少维作为主题特征向量\n",
    "        svd = TruncatedSVD(dimension)\n",
    "        norm = Normalizer(copy=False)\n",
    "        lsa = make_pipeline(svd, norm)\n",
    "        allTopicVector = lsa.fit_transform(X)\n",
    "\n",
    "    for i in range(0,len(list)):\n",
    "        topicVector[name[i]] = allTopicVector[i]\n",
    "            \n",
    "    return topicVector\n",
    "        "
   ]
  },
  {
   "cell_type": "code",
   "execution_count": 48,
   "metadata": {},
   "outputs": [
    {
     "data": {
      "text/plain": [
       "{'cat': array([ 0.26098498, -0.12978815,  0.67655298, -0.38820624, -0.05390463,\n",
       "        -0.21722856,  0.39838667,  0.29221038,  0.0950283 , -0.05822965]),\n",
       " 'cd': array([ 0.85648734, -0.08956345, -0.16818299, -0.21186065,  0.02785041,\n",
       "        -0.106994  , -0.0907681 ,  0.08209252, -0.24108149,  0.31609446]),\n",
       " 'chmod': array([ 0.9048228 , -0.25788955,  0.15256634, -0.15361334,  0.15442785,\n",
       "         0.06376139,  0.03244307,  0.0193109 , -0.12283542, -0.15325681]),\n",
       " 'cp': array([ 0.52921902,  0.74838524,  0.22682941,  0.07686775, -0.05204611,\n",
       "         0.1638494 ,  0.05728373,  0.0961776 , -0.12440178, -0.2119522 ]),\n",
       " 'date': array([ 0.68136106,  0.41207669, -0.13546537, -0.24879406, -0.21542855,\n",
       "         0.03770028, -0.02799686, -0.23786101,  0.42484895,  0.00121054]),\n",
       " 'df': array([ 0.51157205, -0.23659377,  0.32259579, -0.24433945, -0.40719544,\n",
       "        -0.21848102, -0.33246371,  0.02499966,  0.24421662, -0.36634229]),\n",
       " 'history': array([ 0.6865089 , -0.24012894, -0.01215853, -0.30430178, -0.08909761,\n",
       "        -0.00880157, -0.22992736,  0.21854735, -0.11820798,  0.50564583]),\n",
       " 'ifconfig': array([ 0.59878881, -0.19250897, -0.08285901, -0.36197509, -0.3976779 ,\n",
       "         0.06178223, -0.4277751 , -0.30877043, -0.08278075,  0.13911346]),\n",
       " 'java': array([ 0.66181496, -0.22717012, -0.17705755, -0.03391616,  0.21895284,\n",
       "         0.43780803, -0.22653292,  0.14429899, -0.38632205, -0.12997964]),\n",
       " 'kill': array([ 0.42581616, -0.10513134, -0.17321758,  0.00348145,  0.61547078,\n",
       "        -0.24845778, -0.32726834,  0.23252807,  0.3585525 , -0.21758274]),\n",
       " 'ls': array([ 5.48488893e-01,  7.15884355e-01, -1.74872483e-01, -3.80035881e-02,\n",
       "         9.50193565e-02, -2.52509662e-01, -9.36684483e-02, -7.45726494e-02,\n",
       "        -6.81123420e-04,  2.59845602e-01]),\n",
       " 'mkdir': array([ 0.46003207,  0.85810203, -0.04784779, -0.05871776,  0.09849117,\n",
       "        -0.13526658, -0.00524474, -0.11538741, -0.01294965,  0.06918956]),\n",
       " 'mv': array([ 0.38766564,  0.89972417,  0.11958181,  0.03437739, -0.02213913,\n",
       "         0.04495001,  0.07543901,  0.04525296, -0.08111829, -0.0888845 ]),\n",
       " 'mysql': array([ 0.52620635, -0.17075265, -0.29613164, -0.14701986, -0.03272196,\n",
       "         0.49010671,  0.24221442, -0.45570945,  0.23956732, -0.14012451]),\n",
       " 'open': array([ 0.49338626, -0.18778274, -0.2640426 ,  0.00726635, -0.0853641 ,\n",
       "        -0.04180551,  0.54374875,  0.00272441,  0.58851465,  0.02195412]),\n",
       " 'ping': array([ 0.26486334,  0.04317802,  0.09284471,  0.40463288, -0.24618194,\n",
       "         0.43831029, -0.18919652,  0.51654482,  0.33500824,  0.29676473]),\n",
       " 'ps': array([ 0.7944422 , -0.11049997, -0.27387432,  0.21302765,  0.35194825,\n",
       "        -0.06959907, -0.06929771,  0.07050506,  0.1142869 , -0.29106218]),\n",
       " 'pwd': array([ 0.43220946, -0.06905427, -0.43902887,  0.33703463, -0.47436778,\n",
       "        -0.4535903 ,  0.23489635,  0.1064661 , -0.05601116, -0.04086901]),\n",
       " 'rm': array([ 0.80486002, -0.24915469,  0.27607959, -0.42109995,  0.08570877,\n",
       "        -0.00489603, -0.0434729 , -0.02933581, -0.09151666,  0.13446722]),\n",
       " 'scp': array([ 0.45362737, -0.12427023,  0.60208218,  0.5105993 ,  0.02939079,\n",
       "        -0.0117174 , -0.03739364, -0.38196821,  0.0497419 ,  0.06921813]),\n",
       " 'ssh': array([ 0.48403588, -0.22174352,  0.35343639,  0.5734033 ,  0.00492147,\n",
       "        -0.02208212, -0.20075363, -0.46277878,  0.03081204, -0.08308435]),\n",
       " 'sudo': array([ 0.51599595, -0.1956596 ,  0.07037258,  0.14085094,  0.36855056,\n",
       "        -0.07567745,  0.37111339, -0.16848242, -0.07112145,  0.59828746]),\n",
       " 'telnet': array([ 0.5252928 , -0.20888248,  0.12103713,  0.2074598 ,  0.14336539,\n",
       "         0.20067583,  0.42662537,  0.35797766, -0.36690849, -0.34226093]),\n",
       " 'vi': array([ 0.51802132, -0.21624855, -0.19965124,  0.3981155 , -0.29177621,\n",
       "        -0.50682661, -0.05672111,  0.15449289, -0.34077014, -0.03630026]),\n",
       " 'which': array([ 0.65992518, -0.17409095, -0.33078677, -0.10368933, -0.27035198,\n",
       "         0.38562604,  0.18995604, -0.09926804, -0.29621593, -0.24195201])}"
      ]
     },
     "execution_count": 48,
     "metadata": {},
     "output_type": "execute_result"
    }
   ],
   "source": [
    "\n",
    "findTopic('C:\\\\Users\\\\Ricky\\\\Documents\\\\WeChat Files\\\\Freedom_Ricky\\\\Files\\\\man')"
   ]
  },
  {
   "cell_type": "code",
   "execution_count": 44,
   "metadata": {},
   "outputs": [
    {
     "ename": "NameError",
     "evalue": "name 'svd' is not defined",
     "output_type": "error",
     "traceback": [
      "\u001b[1;31m---------------------------------------------------------------------------\u001b[0m",
      "\u001b[1;31mNameError\u001b[0m                                 Traceback (most recent call last)",
      "\u001b[1;32m<ipython-input-44-7b2db5d60919>\u001b[0m in \u001b[0;36m<module>\u001b[1;34m()\u001b[0m\n\u001b[1;32m----> 1\u001b[1;33m \u001b[0mprint\u001b[0m \u001b[1;33m(\u001b[0m\u001b[0msvd\u001b[0m\u001b[1;33m.\u001b[0m\u001b[0mexplained_variance_ratio_\u001b[0m\u001b[1;33m.\u001b[0m\u001b[0msum\u001b[0m\u001b[1;33m(\u001b[0m\u001b[1;33m)\u001b[0m\u001b[1;33m)\u001b[0m\u001b[1;33m\u001b[0m\u001b[0m\n\u001b[0m\u001b[0;32m      2\u001b[0m \u001b[0mprint\u001b[0m \u001b[1;33m(\u001b[0m\u001b[0mX\u001b[0m\u001b[1;33m[\u001b[0m\u001b[1;36m0\u001b[0m\u001b[1;33m]\u001b[0m\u001b[1;33m)\u001b[0m\u001b[1;33m\u001b[0m\u001b[0m\n",
      "\u001b[1;31mNameError\u001b[0m: name 'svd' is not defined"
     ]
    }
   ],
   "source": [
    "print (svd.explained_variance_ratio_.sum())\n",
    "print (X[0])"
   ]
  },
  {
   "cell_type": "code",
   "execution_count": null,
   "metadata": {},
   "outputs": [],
   "source": []
  },
  {
   "cell_type": "code",
   "execution_count": 48,
   "metadata": {},
   "outputs": [],
   "source": [
    "def Model_DBSCAN(dataset,best_epsilon=0.3,best_num=5):\n",
    "    '''\n",
    "    使用DBSCAN聚类结果为数据贴标签\n",
    "    '''\n",
    "    X = dataset\n",
    "    \n",
    "    clst = DBSCAN(eps = best_epsilon, min_samples = best_num)\n",
    "    clst.fit(X)\n",
    "    clst_labels = clst.labels_\n",
    "    if len(set(clst_labels))>1:\n",
    "        evalue=metrics.silhouette_score(X,clst.labels_,metric='euclidean')\n",
    "    else:\n",
    "        evalue=\"no exception people\"\n",
    "    #输出评价系数\n",
    "    print (\"Evaluate Ratio: %s\" % evalue)\n",
    "    print (\"=============================================\")\n",
    "    for clst_lab in set(clst_labels):\n",
    "        print (\"Number of the %s class: %s\" % (clst_lab,list(clst_labels).count(clst_lab)))\n",
    "    print (\"=============================================\")\n",
    "    print (\"Number of the labels: %s\" % len(clst_labels))\n",
    "    \n",
    "    return clst_labels"
   ]
  },
  {
   "cell_type": "code",
   "execution_count": 49,
   "metadata": {},
   "outputs": [
    {
     "name": "stdout",
     "output_type": "stream",
     "text": [
      "Evaluate Ratio: 0.7399332539305822\n",
      "=============================================\n",
      "Number of the 0 class: 13\n",
      "Number of the 1 class: 10\n",
      "Number of the 2 class: 26\n",
      "Number of the 3 class: 16\n",
      "Number of the 4 class: 16\n",
      "Number of the 5 class: 34\n",
      "Number of the 6 class: 11\n",
      "Number of the 7 class: 5\n",
      "Number of the 8 class: 9\n",
      "Number of the 9 class: 6\n",
      "Number of the 10 class: 7\n",
      "Number of the 11 class: 5\n",
      "Number of the 12 class: 17\n",
      "Number of the 13 class: 6\n",
      "Number of the 14 class: 9\n",
      "Number of the 15 class: 7\n",
      "Number of the 16 class: 5\n",
      "Number of the 17 class: 6\n",
      "Number of the 18 class: 60\n",
      "Number of the 19 class: 45\n",
      "Number of the 20 class: 21\n",
      "Number of the 21 class: 24\n",
      "Number of the 22 class: 5\n",
      "Number of the 23 class: 22\n",
      "Number of the 24 class: 5\n",
      "Number of the 25 class: 5\n",
      "Number of the -1 class: 105\n",
      "=============================================\n",
      "Number of the labels: 500\n"
     ]
    },
    {
     "data": {
      "text/plain": [
       "array([ 0,  0,  1, -1, -1,  2,  3,  4,  5,  1,  6,  6,  6,  6,  2,  5,  4,\n",
       "        6,  4,  6,  1,  0,  0,  2,  5,  4, -1,  7,  7,  0,  6,  5,  4,  5,\n",
       "        0,  4,  5, -1,  4,  5,  2,  7,  0, -1,  3,  4,  0,  6,  2,  3,  4,\n",
       "        0,  6,  2,  4,  5,  0,  2,  4,  6,  7,  0,  0,  1,  1,  2,  4,  5,\n",
       "        1,  4,  1,  6,  2,  4,  5, -1, -1,  5,  2,  3,  2,  4,  2,  5,  1,\n",
       "        2,  4,  1,  1,  8,  8,  8,  8,  8, -1,  9, 10, 10, -1, -1, -1, -1,\n",
       "       -1,  2, 10, 10, 10,  3,  2, 11, 11, -1, -1, 11, 11, -1, 11, 10,  2,\n",
       "        3, 10, 12, 12, 12, 12, 12, 12, 12, 12, 12, 13, -1, 12, 12, 14,  5,\n",
       "       -1, 12, 12, 12, 12, 12, 12, 15, -1, -1, -1,  8, 13,  8,  8,  8, -1,\n",
       "       16, -1, 15, 17, -1, 17, 15, -1, 17, -1, 16, 15, 17, 17, 16, 15, -1,\n",
       "       -1, 16, -1, 15,  2, 15, -1, 16, -1, -1, -1, -1, -1, -1, -1, -1, -1,\n",
       "       -1, -1, 13, -1,  3, -1, -1, -1, -1, -1,  2, -1, -1, -1, -1, -1, -1,\n",
       "       14, 14, -1, -1, -1, -1, -1,  3,  5,  7,  0,  2,  5,  3,  5, -1,  5,\n",
       "        5, -1,  5,  5,  2,  3, -1, 18, 18, 19, 18, 19, 20, 18, 19, 20, 18,\n",
       "       20, 19, 18, 19, 20, 18, 20, 19, 18, 20, 19, 18, 20, 19, 18, 19, 20,\n",
       "       20, 18, 20, 19, 18, 19, 20, 18, 20, 19, 18, 19, 20, 18, 20, 19, 18,\n",
       "       19, 20, 21, 21, 18, 20, 19, 18, 21, 18, 20, 19, 13, 18, 18, -1,  5,\n",
       "       19, 18, 21, 18,  5, 21, 18, 21, 19, 20, 18, 20, 19, 21, 18, 19, 20,\n",
       "       20, 18, -1,  5, 22, 21, 18, 21, 18, 18, -1, 18, 21, -1, 18, -1, 18,\n",
       "       19, 22, 18, 17,  2,  5,  2,  5, 21, 22, 23, 18, 22, 19, 18, 19, 23,\n",
       "       18, 21, 18, 21, 19, 22, 18, 18, -1, 19, 23, 18, 23, 19, 21, 18, 18,\n",
       "       -1, 21, 19, -1, 18, 21, 19, 23, 18, 23, 19, 18, 19, 23, 18, 23, 19,\n",
       "       18, 21, 19, 23, 18, 23, 19, 21, 18, 21, 19, 23, 18, 21, 23, 19, 18,\n",
       "        5, -1, 23, 21, -1, 21, 19, 23, 18, 23, 19, 18, 19, 23, 18, 23, 19,\n",
       "       18, 19, 23, -1, 21, 18, 23, 19, 18, 21, 23, 19, 18, 23, 19, 18, 19,\n",
       "       23, 24, 24, 24, 24,  2,  5,  3,  5,  3,  5, -1, -1, -1, -1, -1, -1,\n",
       "       14, 14, 14, 14, 14,  3, -1, -1, 14, -1, -1, 24, -1,  5,  5, -1,  2,\n",
       "       -1, -1, -1, -1, -1, -1, -1, -1, -1,  2,  3,  5, -1, -1, -1, 13, 13,\n",
       "       -1, -1, -1, -1, -1,  9,  9,  9,  9, -1,  3,  5, 25, 25,  9, 25, 25,\n",
       "       25, -1, -1,  2,  3,  5, -1], dtype=int64)"
      ]
     },
     "execution_count": 49,
     "metadata": {},
     "output_type": "execute_result"
    }
   ],
   "source": [
    "Model_DBSCAN(X)"
   ]
  },
  {
   "cell_type": "code",
   "execution_count": null,
   "metadata": {},
   "outputs": [],
   "source": []
  }
 ],
 "metadata": {
  "kernelspec": {
   "display_name": "Python 3",
   "language": "python",
   "name": "python3"
  },
  "language_info": {
   "codemirror_mode": {
    "name": "ipython",
    "version": 3
   },
   "file_extension": ".py",
   "mimetype": "text/x-python",
   "name": "python",
   "nbconvert_exporter": "python",
   "pygments_lexer": "ipython3",
   "version": "3.6.4"
  }
 },
 "nbformat": 4,
 "nbformat_minor": 2
}
