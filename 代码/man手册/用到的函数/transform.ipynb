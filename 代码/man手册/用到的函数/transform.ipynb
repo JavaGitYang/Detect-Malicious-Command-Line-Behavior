{
 "cells": [
  {
   "cell_type": "code",
   "execution_count": 1,
   "metadata": {},
   "outputs": [],
   "source": [
    "def transform(dataset,topicVector):\n",
    "    \n",
    "    '''\n",
    "    输入预处理过的数据和主题特征向量\n",
    "    把dataset转换成特征向量的形式\n",
    "    '''\n",
    "    \n",
    "    for i in range(len(dataset)):\n",
    "        dataset[i] = topicVector[dataset[i]]\n",
    "        \n",
    "    return dataset"
   ]
  },
  {
   "cell_type": "code",
   "execution_count": null,
   "metadata": {},
   "outputs": [],
   "source": []
  }
 ],
 "metadata": {
  "kernelspec": {
   "display_name": "Python 3",
   "language": "python",
   "name": "python3"
  },
  "language_info": {
   "codemirror_mode": {
    "name": "ipython",
    "version": 3
   },
   "file_extension": ".py",
   "mimetype": "text/x-python",
   "name": "python",
   "nbconvert_exporter": "python",
   "pygments_lexer": "ipython3",
   "version": "3.6.4"
  }
 },
 "nbformat": 4,
 "nbformat_minor": 2
}
