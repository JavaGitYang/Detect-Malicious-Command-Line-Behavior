{
 "cells": [
  {
   "cell_type": "code",
   "execution_count": 1,
   "metadata": {},
   "outputs": [],
   "source": [
    "def slideWindow(dataset,line=20):\n",
    "    \n",
    "    '''\n",
    "    将多条命令行按照时间滑动窗口合并成一条\n",
    "    输入的dataset是已经把命令换成各自的topicVector\n",
    "    '''\n",
    "    \n",
    "    for i in range(len(dataset)-line):\n",
    "        #到最后line条，跳出循环\n",
    "        #每line条数据加起来存到new_dataset数组\n",
    "        for j in range(line):\n",
    "            dataset[i] += dataset[i+j]\n",
    "        dataset[i] /= line\n",
    "        \n",
    "    return dataset\n"
   ]
  },
  {
   "cell_type": "code",
   "execution_count": null,
   "metadata": {},
   "outputs": [],
   "source": []
  }
 ],
 "metadata": {
  "kernelspec": {
   "display_name": "Python 3",
   "language": "python",
   "name": "python3"
  },
  "language_info": {
   "codemirror_mode": {
    "name": "ipython",
    "version": 3
   },
   "file_extension": ".py",
   "mimetype": "text/x-python",
   "name": "python",
   "nbconvert_exporter": "python",
   "pygments_lexer": "ipython3",
   "version": "3.6.4"
  }
 },
 "nbformat": 4,
 "nbformat_minor": 2
}
